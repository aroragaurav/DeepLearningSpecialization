{
 "cells": [
  {
   "cell_type": "code",
   "execution_count": 1,
   "id": "615fc65a",
   "metadata": {},
   "outputs": [],
   "source": [
    "import os\n",
    "import torch\n",
    "from torch import nn\n",
    "from torch.utils.data import DataLoader\n",
    "from torchvision import datasets, transforms"
   ]
  },
  {
   "cell_type": "code",
   "execution_count": 2,
   "id": "ab3b19aa",
   "metadata": {},
   "outputs": [
    {
     "name": "stdout",
     "output_type": "stream",
     "text": [
      "Using mps device\n"
     ]
    }
   ],
   "source": [
    "device = (\n",
    "    \"cuda\"\n",
    "    if torch.cuda.is_available()\n",
    "    else \"mps\"\n",
    "    if torch.backends.mps.is_available()\n",
    "    else \"cpu\"\n",
    ")\n",
    "print(f\"Using {device} device\")"
   ]
  },
  {
   "cell_type": "code",
   "execution_count": 12,
   "id": "44d48bb9",
   "metadata": {},
   "outputs": [],
   "source": [
    "class NeuralNetwork(nn.Module):\n",
    "    def __init__(self):\n",
    "        super().__init__()\n",
    "        self.flatten = nn.Flatten()\n",
    "        self.linear_relu_stack = nn.Sequential(\n",
    "            nn.Linear(28*28, 512),\n",
    "            nn.ReLU(),\n",
    "            nn.Linear(512, 512),\n",
    "            nn.ReLU(),\n",
    "            nn.Linear(512, 10)\n",
    "        )\n",
    "\n",
    "    def forward(self, x):\n",
    "        x = self.flatten(x)\n",
    "        logits = self.linear_relu_stack(x)\n",
    "        return logits"
   ]
  },
  {
   "cell_type": "code",
   "execution_count": 13,
   "id": "7a28d96b",
   "metadata": {},
   "outputs": [
    {
     "name": "stdout",
     "output_type": "stream",
     "text": [
      "NeuralNetwork(\n",
      "  (flatten): Flatten(start_dim=1, end_dim=-1)\n",
      "  (linear_relu_stack): Sequential(\n",
      "    (0): Linear(in_features=784, out_features=512, bias=True)\n",
      "    (1): ReLU()\n",
      "    (2): Linear(in_features=512, out_features=512, bias=True)\n",
      "    (3): ReLU()\n",
      "    (4): Linear(in_features=512, out_features=10, bias=True)\n",
      "  )\n",
      ")\n"
     ]
    }
   ],
   "source": [
    "model = NeuralNetwork().to(device)\n",
    "print(model)"
   ]
  },
  {
   "cell_type": "code",
   "execution_count": 17,
   "id": "ea2efa9c",
   "metadata": {},
   "outputs": [
    {
     "name": "stdout",
     "output_type": "stream",
     "text": [
      "logits are tensor([[-0.0566, -0.0103,  0.0108, -0.0983, -0.0551,  0.0609,  0.0493,  0.1488,\n",
      "         -0.0039, -0.0155]], device='mps:0', grad_fn=<LinearBackward0>)\n",
      "pred_probab are tensor([[0.0940, 0.0985, 0.1006, 0.0902, 0.0941, 0.1057, 0.1045, 0.1154, 0.0991,\n",
      "         0.0979]], device='mps:0', grad_fn=<SoftmaxBackward0>)\n",
      "predicted class tensor([7], device='mps:0')\n"
     ]
    }
   ],
   "source": [
    "X = torch.rand(1, 28, 28, device=device)\n",
    "logits = model(X)\n",
    "print(f\"logits are {logits}\")\n",
    "pred_probab = nn.Softmax(dim=1)(logits)\n",
    "print(f\"pred_probab are {pred_probab}\")\n",
    "y_pred = pred_probab.argmax(1)\n",
    "print(f\"predicted class {y_pred}\")\n"
   ]
  },
  {
   "cell_type": "code",
   "execution_count": 20,
   "id": "0c2cc8ff",
   "metadata": {},
   "outputs": [
    {
     "name": "stdout",
     "output_type": "stream",
     "text": [
      "tensor([[ 0.0750,  0.5559, -1.4322],\n",
      "        [-1.2489,  0.6642, -0.7276]])\n",
      "tensor([[0.3522, 0.5697, 0.0780],\n",
      "        [0.1057, 0.7162, 0.1781]])\n"
     ]
    }
   ],
   "source": [
    "#example to play with softmax, dim=1 is across columns so for an example. \n",
    "#dim=0 would be across a feature which might not be useful for classification in usual sense\n",
    "m = nn.Softmax(dim=1)\n",
    "input = torch.randn(2, 3)\n",
    "print (input)\n",
    "output = m(input)\n",
    "print (output)"
   ]
  },
  {
   "cell_type": "code",
   "execution_count": 21,
   "id": "7293bb47",
   "metadata": {},
   "outputs": [
    {
     "name": "stdout",
     "output_type": "stream",
     "text": [
      "torch.Size([3, 28, 28])\n"
     ]
    }
   ],
   "source": [
    "input_image = torch.rand(3,28,28)\n",
    "print(input_image.size())"
   ]
  },
  {
   "cell_type": "code",
   "execution_count": 22,
   "id": "a211157e",
   "metadata": {},
   "outputs": [
    {
     "name": "stdout",
     "output_type": "stream",
     "text": [
      "torch.Size([3, 784])\n"
     ]
    }
   ],
   "source": [
    "flatten = nn.Flatten()\n",
    "flat_image = flatten(input_image)\n",
    "print(flat_image.size())"
   ]
  },
  {
   "cell_type": "code",
   "execution_count": 23,
   "id": "d511fbdc",
   "metadata": {},
   "outputs": [
    {
     "name": "stdout",
     "output_type": "stream",
     "text": [
      "torch.Size([3, 20])\n"
     ]
    }
   ],
   "source": [
    "layer1 = nn.Linear(in_features=28*28, out_features=20)\n",
    "hidden1 = layer1(flat_image)\n",
    "print(hidden1.size())"
   ]
  },
  {
   "cell_type": "code",
   "execution_count": 24,
   "id": "ba5e1762",
   "metadata": {},
   "outputs": [
    {
     "name": "stdout",
     "output_type": "stream",
     "text": [
      "Before ReLU: tensor([[-0.4191, -0.2394,  0.1291,  0.0058, -0.0968, -0.4242, -0.2887, -0.6720,\n",
      "          0.3976,  0.0887,  0.2234,  0.1923,  0.1938,  0.4474,  0.0274,  0.0707,\n",
      "          0.5935, -0.0646,  0.1933,  0.3510],\n",
      "        [-0.2446,  0.0357,  0.3397,  0.1080, -0.3345, -0.4086, -0.2138, -0.5635,\n",
      "          0.1673,  0.0475,  0.1926,  0.0749,  0.2884,  0.4969, -0.2151,  0.3091,\n",
      "          0.8137, -0.1745, -0.1847,  0.3526],\n",
      "        [-0.3357, -0.3323,  0.2898,  0.0554, -0.1658, -0.7308, -0.2401, -0.5120,\n",
      "         -0.0912, -0.2094, -0.0642,  0.2793,  0.6560,  0.2099, -0.3502,  0.0947,\n",
      "          0.2870, -0.0587,  0.1992,  0.5018]], grad_fn=<AddmmBackward0>)\n",
      "\n",
      "\n",
      "After ReLU: tensor([[0.0000, 0.0000, 0.1291, 0.0058, 0.0000, 0.0000, 0.0000, 0.0000, 0.3976,\n",
      "         0.0887, 0.2234, 0.1923, 0.1938, 0.4474, 0.0274, 0.0707, 0.5935, 0.0000,\n",
      "         0.1933, 0.3510],\n",
      "        [0.0000, 0.0357, 0.3397, 0.1080, 0.0000, 0.0000, 0.0000, 0.0000, 0.1673,\n",
      "         0.0475, 0.1926, 0.0749, 0.2884, 0.4969, 0.0000, 0.3091, 0.8137, 0.0000,\n",
      "         0.0000, 0.3526],\n",
      "        [0.0000, 0.0000, 0.2898, 0.0554, 0.0000, 0.0000, 0.0000, 0.0000, 0.0000,\n",
      "         0.0000, 0.0000, 0.2793, 0.6560, 0.2099, 0.0000, 0.0947, 0.2870, 0.0000,\n",
      "         0.1992, 0.5018]], grad_fn=<ReluBackward0>)\n"
     ]
    }
   ],
   "source": [
    "print(f\"Before ReLU: {hidden1}\\n\\n\")\n",
    "hidden1 = nn.ReLU()(hidden1)\n",
    "print(f\"After ReLU: {hidden1}\")"
   ]
  },
  {
   "cell_type": "code",
   "execution_count": 25,
   "id": "86942b89",
   "metadata": {},
   "outputs": [],
   "source": [
    "seq_modules = nn.Sequential(\n",
    "    flatten,\n",
    "    layer1,\n",
    "    nn.ReLU(),\n",
    "    nn.Linear(20, 10)\n",
    ")\n",
    "input_image = torch.rand(3,28,28)\n",
    "logits = seq_modules(input_image)"
   ]
  },
  {
   "cell_type": "code",
   "execution_count": 26,
   "id": "de1606eb",
   "metadata": {},
   "outputs": [
    {
     "name": "stdout",
     "output_type": "stream",
     "text": [
      "tensor([[ 0.1664, -0.2929, -0.1911, -0.3805,  0.2609,  0.0097, -0.1518,  0.3393,\n",
      "          0.0936, -0.1152],\n",
      "        [ 0.2844, -0.1758, -0.0117, -0.3136,  0.1866, -0.1223, -0.0946,  0.2823,\n",
      "          0.2832, -0.1348],\n",
      "        [ 0.3536, -0.2054, -0.1930, -0.3193,  0.1723, -0.1468, -0.1644,  0.2881,\n",
      "          0.0461, -0.2152]], grad_fn=<AddmmBackward0>)\n"
     ]
    }
   ],
   "source": [
    "print(logits)"
   ]
  },
  {
   "cell_type": "code",
   "execution_count": 28,
   "id": "09588cfb",
   "metadata": {},
   "outputs": [
    {
     "name": "stdout",
     "output_type": "stream",
     "text": [
      "tensor([[0.1181, 0.0746, 0.0826, 0.0684, 0.1299, 0.1010, 0.0859, 0.1404, 0.1098,\n",
      "         0.0891],\n",
      "        [0.1276, 0.0805, 0.0949, 0.0702, 0.1157, 0.0850, 0.0874, 0.1273, 0.1275,\n",
      "         0.0839],\n",
      "        [0.1442, 0.0824, 0.0835, 0.0736, 0.1203, 0.0874, 0.0859, 0.1351, 0.1060,\n",
      "         0.0816]], grad_fn=<SoftmaxBackward0>)\n"
     ]
    }
   ],
   "source": [
    "softmax = nn.Softmax(dim=1)\n",
    "pred_probab = softmax(logits)\n",
    "print(pred_probab)"
   ]
  },
  {
   "cell_type": "code",
   "execution_count": 30,
   "id": "c8121b95",
   "metadata": {},
   "outputs": [
    {
     "name": "stdout",
     "output_type": "stream",
     "text": [
      "Model structure: NeuralNetwork(\n",
      "  (flatten): Flatten(start_dim=1, end_dim=-1)\n",
      "  (linear_relu_stack): Sequential(\n",
      "    (0): Linear(in_features=784, out_features=512, bias=True)\n",
      "    (1): ReLU()\n",
      "    (2): Linear(in_features=512, out_features=512, bias=True)\n",
      "    (3): ReLU()\n",
      "    (4): Linear(in_features=512, out_features=10, bias=True)\n",
      "  )\n",
      ")\n",
      "\n",
      "\n",
      "Layer: linear_relu_stack.0.weight | Size: torch.Size([512, 784]) | Values : tensor([[ 0.0212,  0.0306,  0.0091,  ...,  0.0332, -0.0191, -0.0068],\n",
      "        [-0.0170, -0.0329, -0.0157,  ...,  0.0297, -0.0117,  0.0105]],\n",
      "       device='mps:0', grad_fn=<SliceBackward0>) \n",
      "\n",
      "Layer: linear_relu_stack.0.bias | Size: torch.Size([512]) | Values : tensor([0.0169, 0.0279], device='mps:0', grad_fn=<SliceBackward0>) \n",
      "\n",
      "Layer: linear_relu_stack.2.weight | Size: torch.Size([512, 512]) | Values : tensor([[-0.0287,  0.0357,  0.0269,  ...,  0.0314,  0.0381,  0.0323],\n",
      "        [ 0.0228,  0.0320, -0.0133,  ..., -0.0300,  0.0288,  0.0230]],\n",
      "       device='mps:0', grad_fn=<SliceBackward0>) \n",
      "\n",
      "Layer: linear_relu_stack.2.bias | Size: torch.Size([512]) | Values : tensor([-0.0039, -0.0362], device='mps:0', grad_fn=<SliceBackward0>) \n",
      "\n",
      "Layer: linear_relu_stack.4.weight | Size: torch.Size([10, 512]) | Values : tensor([[ 0.0236,  0.0312,  0.0366,  ...,  0.0026, -0.0178, -0.0354],\n",
      "        [-0.0069,  0.0332, -0.0347,  ...,  0.0368,  0.0117, -0.0195]],\n",
      "       device='mps:0', grad_fn=<SliceBackward0>) \n",
      "\n",
      "Layer: linear_relu_stack.4.bias | Size: torch.Size([10]) | Values : tensor([-0.0347,  0.0170], device='mps:0', grad_fn=<SliceBackward0>) \n",
      "\n"
     ]
    }
   ],
   "source": [
    "print(f\"Model structure: {model}\\n\\n\")\n",
    "\n",
    "for name, param in model.named_parameters():\n",
    "    print(f\"Layer: {name} | Size: {param.size()} | Values : {param[:2]} \\n\")"
   ]
  },
  {
   "cell_type": "code",
   "execution_count": null,
   "id": "7d383880",
   "metadata": {},
   "outputs": [],
   "source": []
  }
 ],
 "metadata": {
  "kernelspec": {
   "display_name": "Python 3 (ipykernel)",
   "language": "python",
   "name": "python3"
  },
  "language_info": {
   "codemirror_mode": {
    "name": "ipython",
    "version": 3
   },
   "file_extension": ".py",
   "mimetype": "text/x-python",
   "name": "python",
   "nbconvert_exporter": "python",
   "pygments_lexer": "ipython3",
   "version": "3.10.9"
  }
 },
 "nbformat": 4,
 "nbformat_minor": 5
}
